{
 "cells": [
  {
   "cell_type": "code",
   "execution_count": 1,
   "metadata": {},
   "outputs": [],
   "source": [
    "import pandas as pd\n",
    "import numpy as np\n",
    "import matplotlib.pyplot as plt\n",
    "import seaborn as sns\n",
    "import tensorflow as tf\n",
    "%matplotlib inline"
   ]
  },
  {
   "cell_type": "markdown",
   "metadata": {},
   "source": [
    "# Import Data\n",
    "retain only DH, DC, newpara2 and overall hand."
   ]
  },
  {
   "cell_type": "code",
   "execution_count": 2,
   "metadata": {},
   "outputs": [],
   "source": [
    "df = pd.read_excel('XY.xlsx')"
   ]
  },
  {
   "cell_type": "code",
   "execution_count": 3,
   "metadata": {},
   "outputs": [
    {
     "data": {
      "text/html": [
       "<div>\n",
       "<style>\n",
       "    .dataframe thead tr:only-child th {\n",
       "        text-align: right;\n",
       "    }\n",
       "\n",
       "    .dataframe thead th {\n",
       "        text-align: left;\n",
       "    }\n",
       "\n",
       "    .dataframe tbody tr th {\n",
       "        vertical-align: top;\n",
       "    }\n",
       "</style>\n",
       "<table border=\"1\" class=\"dataframe\">\n",
       "  <thead>\n",
       "    <tr style=\"text-align: right;\">\n",
       "      <th></th>\n",
       "      <th>Sample No.</th>\n",
       "      <th>DH</th>\n",
       "      <th>DC</th>\n",
       "      <th>newpara2</th>\n",
       "      <th>Bending</th>\n",
       "      <th>Softness</th>\n",
       "      <th>Weight</th>\n",
       "      <th>Roughness</th>\n",
       "      <th>Stretch</th>\n",
       "      <th>Overall Hand</th>\n",
       "    </tr>\n",
       "  </thead>\n",
       "  <tbody>\n",
       "    <tr>\n",
       "      <th>0</th>\n",
       "      <td>1</td>\n",
       "      <td>18.750671</td>\n",
       "      <td>38.727247</td>\n",
       "      <td>280.468589</td>\n",
       "      <td>2.666667</td>\n",
       "      <td>2.297619</td>\n",
       "      <td>3.102564</td>\n",
       "      <td>3.130952</td>\n",
       "      <td>2.297619</td>\n",
       "      <td>2.000000</td>\n",
       "    </tr>\n",
       "    <tr>\n",
       "      <th>1</th>\n",
       "      <td>2</td>\n",
       "      <td>23.541664</td>\n",
       "      <td>49.988518</td>\n",
       "      <td>408.761807</td>\n",
       "      <td>2.654762</td>\n",
       "      <td>2.869048</td>\n",
       "      <td>1.512821</td>\n",
       "      <td>2.702381</td>\n",
       "      <td>1.500000</td>\n",
       "      <td>3.107143</td>\n",
       "    </tr>\n",
       "    <tr>\n",
       "      <th>2</th>\n",
       "      <td>3</td>\n",
       "      <td>14.625450</td>\n",
       "      <td>30.059729</td>\n",
       "      <td>173.812582</td>\n",
       "      <td>1.845238</td>\n",
       "      <td>3.488095</td>\n",
       "      <td>1.307692</td>\n",
       "      <td>2.071429</td>\n",
       "      <td>1.261905</td>\n",
       "      <td>3.166667</td>\n",
       "    </tr>\n",
       "    <tr>\n",
       "      <th>3</th>\n",
       "      <td>4</td>\n",
       "      <td>18.549034</td>\n",
       "      <td>46.885829</td>\n",
       "      <td>363.275230</td>\n",
       "      <td>2.666667</td>\n",
       "      <td>1.869048</td>\n",
       "      <td>2.602564</td>\n",
       "      <td>3.428571</td>\n",
       "      <td>4.119048</td>\n",
       "      <td>1.595238</td>\n",
       "    </tr>\n",
       "    <tr>\n",
       "      <th>4</th>\n",
       "      <td>5</td>\n",
       "      <td>21.169678</td>\n",
       "      <td>53.732329</td>\n",
       "      <td>389.933055</td>\n",
       "      <td>2.583333</td>\n",
       "      <td>2.071429</td>\n",
       "      <td>3.102564</td>\n",
       "      <td>3.083333</td>\n",
       "      <td>2.202381</td>\n",
       "      <td>1.916667</td>\n",
       "    </tr>\n",
       "  </tbody>\n",
       "</table>\n",
       "</div>"
      ],
      "text/plain": [
       "   Sample No.         DH         DC    newpara2   Bending  Softness    Weight  \\\n",
       "0           1  18.750671  38.727247  280.468589  2.666667  2.297619  3.102564   \n",
       "1           2  23.541664  49.988518  408.761807  2.654762  2.869048  1.512821   \n",
       "2           3  14.625450  30.059729  173.812582  1.845238  3.488095  1.307692   \n",
       "3           4  18.549034  46.885829  363.275230  2.666667  1.869048  2.602564   \n",
       "4           5  21.169678  53.732329  389.933055  2.583333  2.071429  3.102564   \n",
       "\n",
       "   Roughness   Stretch  Overall Hand  \n",
       "0   3.130952  2.297619      2.000000  \n",
       "1   2.702381  1.500000      3.107143  \n",
       "2   2.071429  1.261905      3.166667  \n",
       "3   3.428571  4.119048      1.595238  \n",
       "4   3.083333  2.202381      1.916667  "
      ]
     },
     "execution_count": 3,
     "metadata": {},
     "output_type": "execute_result"
    }
   ],
   "source": [
    "df.head()"
   ]
  },
  {
   "cell_type": "code",
   "execution_count": 4,
   "metadata": {},
   "outputs": [],
   "source": [
    "to_drop = ['Sample No.','Bending', 'Softness', 'Weight', 'Roughness', 'Stretch']\n",
    "df.drop(to_drop, axis=1, inplace=True)\n",
    "# Round overall hand to integer.\n",
    "df['Overall Hand'] = df['Overall Hand'].map(round)"
   ]
  },
  {
   "cell_type": "code",
   "execution_count": 5,
   "metadata": {},
   "outputs": [],
   "source": [
    "# Normalize Data\n",
    "df_params = df.drop('Overall Hand', axis=1)\n",
    "df_norm = (df_params - df_params.mean()) / (df_params.max() - df_params.min())\n",
    "df_norm['Overall Hand'] = df['Overall Hand']"
   ]
  },
  {
   "cell_type": "code",
   "execution_count": 6,
   "metadata": {},
   "outputs": [
    {
     "data": {
      "text/html": [
       "<div>\n",
       "<style>\n",
       "    .dataframe thead tr:only-child th {\n",
       "        text-align: right;\n",
       "    }\n",
       "\n",
       "    .dataframe thead th {\n",
       "        text-align: left;\n",
       "    }\n",
       "\n",
       "    .dataframe tbody tr th {\n",
       "        vertical-align: top;\n",
       "    }\n",
       "</style>\n",
       "<table border=\"1\" class=\"dataframe\">\n",
       "  <thead>\n",
       "    <tr style=\"text-align: right;\">\n",
       "      <th></th>\n",
       "      <th>DH</th>\n",
       "      <th>DC</th>\n",
       "      <th>newpara2</th>\n",
       "      <th>Overall Hand</th>\n",
       "    </tr>\n",
       "  </thead>\n",
       "  <tbody>\n",
       "    <tr>\n",
       "      <th>0</th>\n",
       "      <td>-0.146233</td>\n",
       "      <td>-0.285071</td>\n",
       "      <td>-0.230030</td>\n",
       "      <td>2</td>\n",
       "    </tr>\n",
       "    <tr>\n",
       "      <th>1</th>\n",
       "      <td>0.152816</td>\n",
       "      <td>-0.023001</td>\n",
       "      <td>-0.024036</td>\n",
       "      <td>3</td>\n",
       "    </tr>\n",
       "    <tr>\n",
       "      <th>2</th>\n",
       "      <td>-0.403725</td>\n",
       "      <td>-0.486779</td>\n",
       "      <td>-0.401282</td>\n",
       "      <td>3</td>\n",
       "    </tr>\n",
       "    <tr>\n",
       "      <th>3</th>\n",
       "      <td>-0.158819</td>\n",
       "      <td>-0.095206</td>\n",
       "      <td>-0.097072</td>\n",
       "      <td>2</td>\n",
       "    </tr>\n",
       "    <tr>\n",
       "      <th>4</th>\n",
       "      <td>0.004759</td>\n",
       "      <td>0.064124</td>\n",
       "      <td>-0.054268</td>\n",
       "      <td>2</td>\n",
       "    </tr>\n",
       "  </tbody>\n",
       "</table>\n",
       "</div>"
      ],
      "text/plain": [
       "         DH        DC  newpara2  Overall Hand\n",
       "0 -0.146233 -0.285071 -0.230030             2\n",
       "1  0.152816 -0.023001 -0.024036             3\n",
       "2 -0.403725 -0.486779 -0.401282             3\n",
       "3 -0.158819 -0.095206 -0.097072             2\n",
       "4  0.004759  0.064124 -0.054268             2"
      ]
     },
     "execution_count": 6,
     "metadata": {},
     "output_type": "execute_result"
    }
   ],
   "source": [
    "df_norm.head()"
   ]
  },
  {
   "cell_type": "code",
   "execution_count": 7,
   "metadata": {
    "scrolled": true
   },
   "outputs": [
    {
     "data": {
      "text/html": [
       "<div>\n",
       "<style>\n",
       "    .dataframe thead tr:only-child th {\n",
       "        text-align: right;\n",
       "    }\n",
       "\n",
       "    .dataframe thead th {\n",
       "        text-align: left;\n",
       "    }\n",
       "\n",
       "    .dataframe tbody tr th {\n",
       "        vertical-align: top;\n",
       "    }\n",
       "</style>\n",
       "<table border=\"1\" class=\"dataframe\">\n",
       "  <thead>\n",
       "    <tr style=\"text-align: right;\">\n",
       "      <th></th>\n",
       "      <th>DH</th>\n",
       "      <th>DC</th>\n",
       "      <th>newpara2</th>\n",
       "      <th>Overall Hand</th>\n",
       "    </tr>\n",
       "  </thead>\n",
       "  <tbody>\n",
       "    <tr>\n",
       "      <th>count</th>\n",
       "      <td>3.500000e+01</td>\n",
       "      <td>3.500000e+01</td>\n",
       "      <td>3.500000e+01</td>\n",
       "      <td>35.000000</td>\n",
       "    </tr>\n",
       "    <tr>\n",
       "      <th>mean</th>\n",
       "      <td>-3.409971e-17</td>\n",
       "      <td>-4.916702e-17</td>\n",
       "      <td>7.930164e-17</td>\n",
       "      <td>2.514286</td>\n",
       "    </tr>\n",
       "    <tr>\n",
       "      <th>std</th>\n",
       "      <td>2.265409e-01</td>\n",
       "      <td>2.855412e-01</td>\n",
       "      <td>2.599412e-01</td>\n",
       "      <td>0.742469</td>\n",
       "    </tr>\n",
       "    <tr>\n",
       "      <th>min</th>\n",
       "      <td>-4.037246e-01</td>\n",
       "      <td>-5.421239e-01</td>\n",
       "      <td>-4.012824e-01</td>\n",
       "      <td>1.000000</td>\n",
       "    </tr>\n",
       "    <tr>\n",
       "      <th>25%</th>\n",
       "      <td>-1.586447e-01</td>\n",
       "      <td>-2.228517e-01</td>\n",
       "      <td>-2.382274e-01</td>\n",
       "      <td>2.000000</td>\n",
       "    </tr>\n",
       "    <tr>\n",
       "      <th>50%</th>\n",
       "      <td>-5.698879e-03</td>\n",
       "      <td>4.058441e-02</td>\n",
       "      <td>-1.196655e-02</td>\n",
       "      <td>2.000000</td>\n",
       "    </tr>\n",
       "    <tr>\n",
       "      <th>75%</th>\n",
       "      <td>1.303444e-01</td>\n",
       "      <td>2.070870e-01</td>\n",
       "      <td>2.084932e-01</td>\n",
       "      <td>3.000000</td>\n",
       "    </tr>\n",
       "    <tr>\n",
       "      <th>max</th>\n",
       "      <td>5.962754e-01</td>\n",
       "      <td>4.578761e-01</td>\n",
       "      <td>5.987176e-01</td>\n",
       "      <td>4.000000</td>\n",
       "    </tr>\n",
       "  </tbody>\n",
       "</table>\n",
       "</div>"
      ],
      "text/plain": [
       "                 DH            DC      newpara2  Overall Hand\n",
       "count  3.500000e+01  3.500000e+01  3.500000e+01     35.000000\n",
       "mean  -3.409971e-17 -4.916702e-17  7.930164e-17      2.514286\n",
       "std    2.265409e-01  2.855412e-01  2.599412e-01      0.742469\n",
       "min   -4.037246e-01 -5.421239e-01 -4.012824e-01      1.000000\n",
       "25%   -1.586447e-01 -2.228517e-01 -2.382274e-01      2.000000\n",
       "50%   -5.698879e-03  4.058441e-02 -1.196655e-02      2.000000\n",
       "75%    1.303444e-01  2.070870e-01  2.084932e-01      3.000000\n",
       "max    5.962754e-01  4.578761e-01  5.987176e-01      4.000000"
      ]
     },
     "execution_count": 7,
     "metadata": {},
     "output_type": "execute_result"
    }
   ],
   "source": [
    "df_norm.describe()"
   ]
  },
  {
   "cell_type": "markdown",
   "metadata": {
    "collapsed": true
   },
   "source": [
    "# Exploratory Data Analysis\n",
    "- Explore relationships between parameters and overall hand.\n",
    "- Explore internal relationships parameters."
   ]
  },
  {
   "cell_type": "code",
   "execution_count": 8,
   "metadata": {},
   "outputs": [
    {
     "data": {
      "text/plain": [
       "<seaborn.axisgrid.JointGrid at 0x1a1467fbe0>"
      ]
     },
     "execution_count": 8,
     "metadata": {},
     "output_type": "execute_result"
    },
    {
     "data": {
      "image/png": "[encoded data removed]",
      "text/plain": [
       "<matplotlib.figure.Figure at 0x1a14659c50>"
      ]
     },
     "metadata": {},
     "output_type": "display_data"
    }
   ],
   "source": [
    "sns.jointplot(df_norm['DH'], df_norm['Overall Hand'])"
   ]
  },
  {
   "cell_type": "code",
   "execution_count": 9,
   "metadata": {},
   "outputs": [
    {
     "data": {
      "text/plain": [
       "<seaborn.axisgrid.JointGrid at 0x1a1ca53eb8>"
      ]
     },
     "execution_count": 9,
     "metadata": {},
     "output_type": "execute_result"
    },
    {
     "data": {
      "image/png": "[encoded data removed]",
      "text/plain": [
       "<matplotlib.figure.Figure at 0x1a1ca53588>"
      ]
     },
     "metadata": {},
     "output_type": "display_data"
    }
   ],
   "source": [
    "sns.jointplot(df_norm['DC'], df_norm['Overall Hand'])"
   ]
  },
  {
   "cell_type": "code",
   "execution_count": 10,
   "metadata": {},
   "outputs": [
    {
     "data": {
      "text/plain": [
       "<seaborn.axisgrid.JointGrid at 0x1a1cc74a20>"
      ]
     },
     "execution_count": 10,
     "metadata": {},
     "output_type": "execute_result"
    },
    {
     "data": {
      "image/png": "[encoded data removed]",
      "text/plain": [
       "<matplotlib.figure.Figure at 0x1a1cc14cc0>"
      ]
     },
     "metadata": {},
     "output_type": "display_data"
    }
   ],
   "source": [
    "sns.jointplot(df_norm['newpara2'], df_norm['Overall Hand'])"
   ]
  },
  {
   "cell_type": "code",
   "execution_count": 11,
   "metadata": {},
   "outputs": [
    {
     "data": {
      "text/plain": [
       "<seaborn.axisgrid.PairGrid at 0x1a1cfae2b0>"
      ]
     },
     "execution_count": 11,
     "metadata": {},
     "output_type": "execute_result"
    },
    {
     "data": {
      "image/png": "[encoded data removed]",
      "text/plain": [
       "<matplotlib.figure.Figure at 0x1a1ce8df28>"
      ]
     },
     "metadata": {},
     "output_type": "display_data"
    }
   ],
   "source": [
    "sns.pairplot(df_norm, hue='Overall Hand')"
   ]
  },
  {
   "cell_type": "code",
   "execution_count": 12,
   "metadata": {},
   "outputs": [
    {
     "data": {
      "text/plain": [
       "<matplotlib.axes._subplots.AxesSubplot at 0x1a1dfb3400>"
      ]
     },
     "execution_count": 12,
     "metadata": {},
     "output_type": "execute_result"
    },
    {
     "data": {
      "image/png": "[encoded data removed]",
      "text/plain": [
       "<matplotlib.figure.Figure at 0x1a1d991b38>"
      ]
     },
     "metadata": {},
     "output_type": "display_data"
    }
   ],
   "source": [
    "fig = plt.figure(figsize=(15,5))\n",
    "plt.subplot(131)\n",
    "sns.boxplot(df_norm['Overall Hand'], df_norm['DC'])\n",
    "plt.subplot(132)\n",
    "sns.boxplot(df_norm['Overall Hand'], df_norm['DH'])\n",
    "plt.subplot(133)\n",
    "sns.boxplot(df_norm['Overall Hand'], df_norm['newpara2'])"
   ]
  },
  {
   "cell_type": "markdown",
   "metadata": {},
   "source": [
    "# Machine Learning\n",
    "Preparation of Data should already be done till now.\n",
    "\n",
    "Use [Multi-layer Perceptron](http://scikit-learn.org/stable/modules/neural_networks_supervised.html#classification) in scikit-learn\n",
    "\n",
    "The network architecture choose:\n",
    "\n",
    "[input - 3] - [fc - 5] - [output - 4]"
   ]
  },
  {
   "cell_type": "code",
   "execution_count": 13,
   "metadata": {
    "collapsed": true
   },
   "outputs": [],
   "source": [
    "from sklearn.model_selection import train_test_split\n",
    "from sklearn.neural_network import MLPClassifier\n",
    "from sklearn.metrics import classification_report"
   ]
  },
  {
   "cell_type": "code",
   "execution_count": 14,
   "metadata": {},
   "outputs": [
    {
     "data": {
      "text/html": [
       "<div>\n",
       "<style>\n",
       "    .dataframe thead tr:only-child th {\n",
       "        text-align: right;\n",
       "    }\n",
       "\n",
       "    .dataframe thead th {\n",
       "        text-align: left;\n",
       "    }\n",
       "\n",
       "    .dataframe tbody tr th {\n",
       "        vertical-align: top;\n",
       "    }\n",
       "</style>\n",
       "<table border=\"1\" class=\"dataframe\">\n",
       "  <thead>\n",
       "    <tr style=\"text-align: right;\">\n",
       "      <th></th>\n",
       "      <th>DH</th>\n",
       "      <th>DC</th>\n",
       "      <th>newpara2</th>\n",
       "      <th>Overall Hand</th>\n",
       "    </tr>\n",
       "  </thead>\n",
       "  <tbody>\n",
       "    <tr>\n",
       "      <th>0</th>\n",
       "      <td>-0.146233</td>\n",
       "      <td>-0.285071</td>\n",
       "      <td>-0.230030</td>\n",
       "      <td>2</td>\n",
       "    </tr>\n",
       "    <tr>\n",
       "      <th>1</th>\n",
       "      <td>0.152816</td>\n",
       "      <td>-0.023001</td>\n",
       "      <td>-0.024036</td>\n",
       "      <td>3</td>\n",
       "    </tr>\n",
       "    <tr>\n",
       "      <th>2</th>\n",
       "      <td>-0.403725</td>\n",
       "      <td>-0.486779</td>\n",
       "      <td>-0.401282</td>\n",
       "      <td>3</td>\n",
       "    </tr>\n",
       "    <tr>\n",
       "      <th>3</th>\n",
       "      <td>-0.158819</td>\n",
       "      <td>-0.095206</td>\n",
       "      <td>-0.097072</td>\n",
       "      <td>2</td>\n",
       "    </tr>\n",
       "    <tr>\n",
       "      <th>4</th>\n",
       "      <td>0.004759</td>\n",
       "      <td>0.064124</td>\n",
       "      <td>-0.054268</td>\n",
       "      <td>2</td>\n",
       "    </tr>\n",
       "  </tbody>\n",
       "</table>\n",
       "</div>"
      ],
      "text/plain": [
       "         DH        DC  newpara2  Overall Hand\n",
       "0 -0.146233 -0.285071 -0.230030             2\n",
       "1  0.152816 -0.023001 -0.024036             3\n",
       "2 -0.403725 -0.486779 -0.401282             3\n",
       "3 -0.158819 -0.095206 -0.097072             2\n",
       "4  0.004759  0.064124 -0.054268             2"
      ]
     },
     "execution_count": 14,
     "metadata": {},
     "output_type": "execute_result"
    }
   ],
   "source": [
    "df_norm.head()"
   ]
  },
  {
   "cell_type": "code",
   "execution_count": 37,
   "metadata": {},
   "outputs": [],
   "source": [
    "clf = MLPClassifier(solver='lbfgs',\n",
    "                    alpha=1e-5,\n",
    "                    learning_rate_init = 0.1,\n",
    "                    hidden_layer_sizes=(5),\n",
    "                    random_state=1)"
   ]
  },
  {
   "cell_type": "code",
   "execution_count": 38,
   "metadata": {},
   "outputs": [
    {
     "data": {
      "text/plain": [
       "MLPClassifier(activation='relu', alpha=1e-05, batch_size='auto', beta_1=0.9,\n",
       "       beta_2=0.999, early_stopping=False, epsilon=1e-08,\n",
       "       hidden_layer_sizes=5, learning_rate='constant',\n",
       "       learning_rate_init=0.1, max_iter=200, momentum=0.9,\n",
       "       nesterovs_momentum=True, power_t=0.5, random_state=1, shuffle=True,\n",
       "       solver='lbfgs', tol=0.0001, validation_fraction=0.1, verbose=False,\n",
       "       warm_start=False)"
      ]
     },
     "execution_count": 38,
     "metadata": {},
     "output_type": "execute_result"
    }
   ],
   "source": [
    "X = df_norm[['DH', 'DC', 'newpara2']]\n",
    "y = df_norm['Overall Hand']\n",
    "clf.fit(X, y)"
   ]
  },
  {
   "cell_type": "code",
   "execution_count": 39,
   "metadata": {},
   "outputs": [
    {
     "name": "stdout",
     "output_type": "stream",
     "text": [
      "The first 10 of predictions are:  [2 2 2 2 2 2 2 2 2 2]\n",
      "The first 10 of predictions probabilites are: \n",
      " [[ 0.05718579  0.45704534  0.39999817  0.08577069]\n",
      " [ 0.05718579  0.45704534  0.39999817  0.08577069]\n",
      " [ 0.05718579  0.45704534  0.39999817  0.08577069]\n",
      " [ 0.05718579  0.45704534  0.39999817  0.08577069]\n",
      " [ 0.05718579  0.45704534  0.39999817  0.08577069]\n",
      " [ 0.05718579  0.45704534  0.39999817  0.08577069]\n",
      " [ 0.05718579  0.45704534  0.39999817  0.08577069]\n",
      " [ 0.05718579  0.45704534  0.39999817  0.08577069]\n",
      " [ 0.05718579  0.45704534  0.39999817  0.08577069]\n",
      " [ 0.05718579  0.45704534  0.39999817  0.08577069]]\n"
     ]
    }
   ],
   "source": [
    "pred = clf.predict(X)\n",
    "print(\"The first 10 of predictions are: \", pred[:10])\n",
    "print(\"The first 10 of predictions probabilites are: \\n\", clf.predict_proba(X)[:10])"
   ]
  },
  {
   "cell_type": "code",
   "execution_count": 18,
   "metadata": {},
   "outputs": [
    {
     "name": "stdout",
     "output_type": "stream",
     "text": [
      "The 1 hidden layer shape is: (3, 5)\n",
      "The 2 hidden layer shape is: (5, 4)\n"
     ]
    }
   ],
   "source": [
    "# Show shape of weights in each hidden layer\n",
    "for i, coef in enumerate(clf.coefs_):\n",
    "    print(\"The %d hidden layer shape is: %s\" %(i+1, coef.shape))"
   ]
  },
  {
   "cell_type": "code",
   "execution_count": 19,
   "metadata": {},
   "outputs": [
    {
     "name": "stdout",
     "output_type": "stream",
     "text": [
      "The 1 hidden layer shape is: (3, 5), weights are: \n",
      " [[ 0.04923122  0.38160877 -0.69770639 -0.34236604 -0.56606872]\n",
      " [-0.44640769 -0.54340693 -0.04575667 -0.1788019   0.1224066 ]\n",
      " [ 0.09520548  0.32080585 -0.31401787  0.65491099 -0.77309509]]\n",
      "\n",
      "\n",
      "The 2 hidden layer shape is: (5, 4), weights are: \n",
      " [[ 0.41107216  0.62168699 -0.13835566  0.37074802]\n",
      " [ 0.61463376  0.64438248 -0.67761208 -0.75271162]\n",
      " [-0.6854625   0.36558486 -0.31236858 -0.07413368]\n",
      " [ 0.74772177  0.05415805  0.31333037 -0.30125821]\n",
      " [ 0.30445088  0.54591228 -0.78589521  0.40837473]]\n",
      "\n",
      "\n"
     ]
    }
   ],
   "source": [
    "# Show weight value of each layer\n",
    "for i, coef in enumerate(clf.coefs_):\n",
    "    print(\"The %d hidden layer shape is: %s, weights are: \\n %s\" %(i+1, coef.shape, coef))\n",
    "    print(\"\\n\")"
   ]
  },
  {
   "cell_type": "code",
   "execution_count": 20,
   "metadata": {
    "scrolled": false
   },
   "outputs": [
    {
     "name": "stdout",
     "output_type": "stream",
     "text": [
      "             precision    recall  f1-score   support\n",
      "\n",
      "          1       0.00      0.00      0.00         2\n",
      "          2       0.46      1.00      0.63        16\n",
      "          3       0.00      0.00      0.00        14\n",
      "          4       0.00      0.00      0.00         3\n",
      "\n",
      "avg / total       0.21      0.46      0.29        35\n",
      "\n"
     ]
    },
    {
     "name": "stderr",
     "output_type": "stream",
     "text": [
      "/Users/wangx/anaconda3/lib/python3.6/site-packages/sklearn/metrics/classification.py:1135: UndefinedMetricWarning: Precision and F-score are ill-defined and being set to 0.0 in labels with no predicted samples.\n",
      "  'precision', 'predicted', average, warn_for)\n"
     ]
    }
   ],
   "source": [
    "print(classification_report(df_norm['Overall Hand'], pred))"
   ]
  },
  {
   "cell_type": "markdown",
   "metadata": {},
   "source": [
    "# Plot scatter in 3D"
   ]
  },
  {
   "cell_type": "code",
   "execution_count": 25,
   "metadata": {
    "scrolled": true
   },
   "outputs": [
    {
     "data": {
      "text/plain": [
       "Text(0.5,0.92,'Distribution of hand in 3D')"
      ]
     },
     "execution_count": 25,
     "metadata": {},
     "output_type": "execute_result"
    },
    {
     "data": {
      "image/png": "[encoded data removed]",
      "text/plain": [
       "<matplotlib.figure.Figure at 0x1a1e5b1f98>"
      ]
     },
     "metadata": {},
     "output_type": "display_data"
    }
   ],
   "source": [
    "%matplotlib inline\n",
    "from mpl_toolkits.mplot3d import Axes3D\n",
    "fig = plt.figure()\n",
    "ax = fig.add_subplot(111, projection='3d')\n",
    "\n",
    "markers = ['o', '^', 's', '*']\n",
    "for i in range(1,5):\n",
    "    cls = df_norm[df_norm['Overall Hand'] == i]\n",
    "    ax.scatter(cls['DH'], cls['DC'], cls['newpara2'], marker=markers[i-1])\n",
    "    \n",
    "ax.set_xlabel('DH')\n",
    "ax.set_ylabel('DC')\n",
    "ax.set_zlabel('newpara2')\n",
    "ax.set_title('Distribution of hand in 3D')"
   ]
  },
  {
   "cell_type": "code",
   "execution_count": 22,
   "metadata": {
    "scrolled": true
   },
   "outputs": [
    {
     "data": {
      "text/plain": [
       "2    16\n",
       "3    14\n",
       "4     3\n",
       "1     2\n",
       "Name: Overall Hand, dtype: int64"
      ]
     },
     "execution_count": 22,
     "metadata": {},
     "output_type": "execute_result"
    }
   ],
   "source": [
    "# Show counts of each hand value\n",
    "df_norm['Overall Hand'].value_counts()"
   ]
  },
  {
   "cell_type": "markdown",
   "metadata": {},
   "source": [
    "# Discussion\n",
    "While use 3 parameters, MLPClassifier predict all samples to label 2.\n",
    "The reason of this problem may be there is even hard to draw a hyperplane manually. \n",
    "\n",
    "From the last 3D scatter, it can be seen that different class are interwined, so the best choice for algorithm to reduce loss is predict the class with most counts, that is label 2, which have 16 samples in 35 samples."
   ]
  },
  {
   "cell_type": "markdown",
   "metadata": {},
   "source": [
    "# Try only use DC and newpara2 and Plot Decision Boundary\n",
    "Why choose DC and newpara2 first?\n",
    "\n",
    "Because DC and newpara2 show more correlation between overall hand, which is already shown on the jointplot and boxplot above."
   ]
  },
  {
   "cell_type": "code",
   "execution_count": 59,
   "metadata": {},
   "outputs": [
    {
     "data": {
      "text/plain": [
       "Text(0.5,1,'Distribution of different labels')"
      ]
     },
     "execution_count": 59,
     "metadata": {},
     "output_type": "execute_result"
    },
    {
     "data": {
      "image/png": "[encoded data removed]",
      "text/plain": [
       "<matplotlib.figure.Figure at 0x1a234e3978>"
      ]
     },
     "metadata": {},
     "output_type": "display_data"
    }
   ],
   "source": [
    "markers = ['o', '^', 's', '*']\n",
    "for i in range(1,5):\n",
    "    cls = df_norm[df_norm['Overall Hand'] == i]\n",
    "    plt.scatter(cls['DC'], cls['newpara2'], marker=markers[i-1], label=i)\n",
    "plt.xlabel('DC')\n",
    "plt.ylabel('newpara2')\n",
    "plt.legend()\n",
    "plt.title('Distribution of different labels')"
   ]
  },
  {
   "cell_type": "code",
   "execution_count": 45,
   "metadata": {},
   "outputs": [
    {
     "data": {
      "text/plain": [
       "MLPClassifier(activation='relu', alpha=1e-05, batch_size='auto', beta_1=0.9,\n",
       "       beta_2=0.999, early_stopping=False, epsilon=1e-08,\n",
       "       hidden_layer_sizes=5, learning_rate='constant',\n",
       "       learning_rate_init=0.1, max_iter=200, momentum=0.9,\n",
       "       nesterovs_momentum=True, power_t=0.5, random_state=1, shuffle=True,\n",
       "       solver='lbfgs', tol=0.0001, validation_fraction=0.1, verbose=False,\n",
       "       warm_start=False)"
      ]
     },
     "execution_count": 45,
     "metadata": {},
     "output_type": "execute_result"
    }
   ],
   "source": [
    "X = df_norm[['DC', 'newpara2']]\n",
    "y = df_norm['Overall Hand']\n",
    "clf2 = MLPClassifier(solver='lbfgs',\n",
    "                     alpha=1e-5,\n",
    "                     learning_rate_init = 0.1,\n",
    "                     hidden_layer_sizes=(5),\n",
    "                     random_state=1)\n",
    "clf2.fit(X, y)"
   ]
  },
  {
   "cell_type": "code",
   "execution_count": 60,
   "metadata": {},
   "outputs": [
    {
     "data": {
      "text/plain": [
       "Text(0.5,1,'Decision Boundary')"
      ]
     },
     "execution_count": 60,
     "metadata": {},
     "output_type": "execute_result"
    },
    {
     "data": {
      "image/png": "[encoded data removed]",
      "text/plain": [
       "<matplotlib.figure.Figure at 0x1a236ab860>"
      ]
     },
     "metadata": {},
     "output_type": "display_data"
    }
   ],
   "source": [
    "# Plot Decision Boundary \n",
    "# https://stats.stackexchange.com/questions/71335/decision-boundary-plot-for-a-perceptron\n",
    "x_min, x_max = X['DC'].min() - 1, X['DC'].max() + 1\n",
    "y_min, y_max = X['newpara2'].min() - 1, X['newpara2'].max() + 1\n",
    "xx, yy = np.meshgrid(np.arange(x_min, x_max, 0.02),\n",
    "                     np.arange(y_min, y_max, 0.02))\n",
    "\n",
    "# Plot the decision boundary. For that, we will assign a color to each\n",
    "# point in the mesh [x_min, m_max]x[y_min, y_max].\n",
    "fig, ax = plt.subplots()\n",
    "Z = clf2.predict(np.c_[xx.ravel(), yy.ravel()])\n",
    "\n",
    "# Put the result into a color plot\n",
    "Z = Z.reshape(xx.shape)\n",
    "ax.contourf(xx, yy, Z, cmap=plt.cm.Paired)\n",
    "ax.axis('on')\n",
    "\n",
    "# Plot also the training points\n",
    "for i in range(1,5):\n",
    "    cls = df_norm[df_norm['Overall Hand'] == i]\n",
    "    plt.scatter(cls['DC'], cls['newpara2'], marker=markers[i-1], label=i)\n",
    "plt.legend()\n",
    "    \n",
    "plt.title('Decision Boundary')"
   ]
  },
  {
   "cell_type": "code",
   "execution_count": 54,
   "metadata": {},
   "outputs": [
    {
     "name": "stdout",
     "output_type": "stream",
     "text": [
      "[3 2 3 2 3 2 2 2 2 2 2 3 2 2 2 2 2 3 2 1 3 2 2 3 3 3 3 4 2 3 3 4 1 2 4]\n"
     ]
    }
   ],
   "source": [
    "pred2 = clf2.predict(X)\n",
    "print(pred2)"
   ]
  },
  {
   "cell_type": "code",
   "execution_count": 55,
   "metadata": {
    "scrolled": true
   },
   "outputs": [
    {
     "name": "stdout",
     "output_type": "stream",
     "text": [
      "             precision    recall  f1-score   support\n",
      "\n",
      "          1       1.00      1.00      1.00         2\n",
      "          2       0.67      0.75      0.71        16\n",
      "          3       0.67      0.57      0.62        14\n",
      "          4       1.00      1.00      1.00         3\n",
      "\n",
      "avg / total       0.71      0.71      0.71        35\n",
      "\n"
     ]
    }
   ],
   "source": [
    "print(classification_report(y, pred2))"
   ]
  }
 ],
 "metadata": {
  "kernelspec": {
   "display_name": "Python 3",
   "language": "python",
   "name": "python3"
  },
  "language_info": {
   "codemirror_mode": {
    "name": "ipython",
    "version": 3
   },
   "file_extension": ".py",
   "mimetype": "text/x-python",
   "name": "python",
   "nbconvert_exporter": "python",
   "pygments_lexer": "ipython3",
   "version": "3.6.3"
  }
 },
 "nbformat": 4,
 "nbformat_minor": 2
}
